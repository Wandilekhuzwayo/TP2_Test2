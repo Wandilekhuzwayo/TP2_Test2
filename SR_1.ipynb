{
 "cells": [
  {
   "cell_type": "code",
   "execution_count": null,
   "id": "f62476ac",
   "metadata": {},
   "outputs": [],
   "source": [
    "# Dataset Documentation: Global Urban Indicators Database\n",
    "Data Source: [World Bank Data](https://data.worldbank.org/indicator/EN.URB.MCTY.TL.ZS)\n",
    "    \n",
    "    Justification for Suitability\n",
    "The \"Global Urban Indicators Database\" from the World Bank is suitable for analyzing informal settlements due to the following reasons:\n",
    "    1. Urban Population Living in Slums(%): This column provides the percentage of the urban population residing in slums,directly reflecting the prevalence of informal settlements.\n",
    "                                            It is essential for understanding the scale and impact of informal settlements in different regions.\n",
    "    2. Access to improved Water Sources(%): This column shows the percentage of the population with access to improved water sources. Access to basic services like water is a critical\n",
    "                                            aspect of living conditions in informal settlements, making this data highly relevant for our analysis.\n",
    "    \n",
    "    Credibility and Completeness\n",
    "Credibility: The dataset is sourced from the World Bank, a globally recognised and trustworthy organisation, ensuring the data relaibility.\n",
    "Data Completeness: The dataset includes comprehensive data across various countries and years, proving a robust foundation for analyzing trends and patterns related to informal settlements."
   ]
  }
 ],
 "metadata": {
  "kernelspec": {
   "display_name": "Python 3 (ipykernel)",
   "language": "python",
   "name": "python3"
  },
  "language_info": {
   "codemirror_mode": {
    "name": "ipython",
    "version": 3
   },
   "file_extension": ".py",
   "mimetype": "text/x-python",
   "name": "python",
   "nbconvert_exporter": "python",
   "pygments_lexer": "ipython3",
   "version": "3.11.7"
  }
 },
 "nbformat": 4,
 "nbformat_minor": 5
}
