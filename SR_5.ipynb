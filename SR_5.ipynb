{
 "cells": [
  {
   "cell_type": "code",
   "execution_count": null,
   "id": "9533595e",
   "metadata": {},
   "outputs": [],
   "source": [
    "Linear Search Algorithm\n",
    "Time complexity:\n",
    "-The worst-case time complexity of linear search is O(n), where n is the number of elements in the list.\n",
    "-In the worst-case scenario, linear search may need to iterate through all elements in the list to find the target element.\n",
    "\n",
    "Space Complexity:\n",
    "-The space complexity of linear search is O(1) since it only requires a constant amount of additional memory for variables to store indices and boundaries.\n",
    "-Linear search does not require any additional memory allocation proportional to the input size."
   ]
  }
 ],
 "metadata": {
  "kernelspec": {
   "display_name": "Python 3 (ipykernel)",
   "language": "python",
   "name": "python3"
  },
  "language_info": {
   "codemirror_mode": {
    "name": "ipython",
    "version": 3
   },
   "file_extension": ".py",
   "mimetype": "text/x-python",
   "name": "python",
   "nbconvert_exporter": "python",
   "pygments_lexer": "ipython3",
   "version": "3.11.7"
  }
 },
 "nbformat": 4,
 "nbformat_minor": 5
}
